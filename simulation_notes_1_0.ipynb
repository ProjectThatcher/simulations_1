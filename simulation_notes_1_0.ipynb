{
 "cells": [
  {
   "cell_type": "markdown",
   "metadata": {},
   "source": [
    "# Thatcher Simulation Model 1.0"
   ]
  },
  {
   "cell_type": "markdown",
   "metadata": {},
   "source": [
    "In this document, we detail a simulation of the most basic model of monitoring in auto-insurance with adverse selection (only)"
   ]
  },
  {
   "cell_type": "code",
   "execution_count": 2,
   "metadata": {
    "collapsed": false,
    "scrolled": true
   },
   "outputs": [
    {
     "name": "stdout",
     "output_type": "stream",
     "text": [
      "[1] \"Set the wd to : /Volumes/Transcend/Dropbox/Project_Thatcher/Simulations\"\n"
     ]
    },
    {
     "name": "stderr",
     "output_type": "stream",
     "text": [
      "Saving 7 x 7 in image\n"
     ]
    }
   ],
   "source": [
    "#Create hash table for premiums\n",
    "source(\"./code/pricing_contractchoice_dev.R\")"
   ]
  },
  {
   "cell_type": "markdown",
   "metadata": {
    "collapsed": false
   },
   "source": [
    "## Base Model Description\n",
    "We begin with the simplest dynamic model of insurance plan choice s.t.:\n",
    "- Accident risk is inherent and static across time\n",
    "- All agents have the same coefficient of absolute risk aversion"
   ]
  },
  {
   "cell_type": "markdown",
   "metadata": {
    "collapsed": true
   },
   "source": [
    "## Building Out the Model\n",
    "\n",
    "Each individual is endowed with a private risk of accidents, $\\lambda$.\n",
    "\n",
    "We assume that the (total) number of accidents $NumA_t$ is distributed according to $Poisson(\\lambda)$.\n",
    "\n",
    "Each accident that occurs is independently chosen to be either a major accident (with Bernoulli probability $p_{Maj}$) or a minor accident (with probability $1-p_{Maj}$).\n",
    "\n",
    "For now, we say $p_{Maj} \\sim U[0,.2]$ and is privately known."
   ]
  },
  {
   "cell_type": "code",
   "execution_count": 3,
   "metadata": {
    "collapsed": true
   },
   "outputs": [],
   "source": [
    "# Start out with 1 driver with uniform probs:\n",
    "lambda_i = runif(1,max=.3)\n",
    "pMaj_i = runif(1,max=.2)"
   ]
  },
  {
   "cell_type": "markdown",
   "metadata": {},
   "source": [
    "We assume that the cost of each accident is an iid lognormal distribution:\n",
    "$$C_{Maj} \\sim log\\mathcal{N}(\\mu_{Maj},1)$$\n",
    "$$C_{Min} \\sim log\\mathcal{N}(\\mu_{Min},1)$$\n",
    "\n",
    "For starters, we assume $mu_{Maj} = 500$ and $mu_{Min} = 7$"
   ]
  },
  {
   "cell_type": "code",
   "execution_count": null,
   "metadata": {
    "collapsed": true
   },
   "outputs": [],
   "source": [
    "#To differentiate major and minor accident costs, make up some means here:\n",
    "meanMj = 500\n",
    "meanMn = 7"
   ]
  },
  {
   "cell_type": "markdown",
   "metadata": {},
   "source": [
    "We assume that all agents have a form of CARA utility:\n",
    "$$u(c) = c - \\alpha c^2 + \\xi $$ where $\\xi \\sim \\mathcal{N}(0,\\sigma^2)$ is a an instance-specific random error.\n",
    "\n",
    "Initially, we assume that all agents have the same CARA coefficient: $\\alpha \\approx \\frac{0.05}{1-2000*0.05}.$"
   ]
  },
  {
   "cell_type": "code",
   "execution_count": 4,
   "metadata": {
    "collapsed": true
   },
   "outputs": [],
   "source": [
    "# Initially assume all drivers have the same risk aversion parameter;\n",
    "# expand this later\n",
    "gamma_ra = .05\n",
    "alpha_ra = -gamma_ra/2000\n",
    "\n",
    "# Risk-averse Utility function\n",
    "getUtility <- function(alpha=alpha_ra,cost){\n",
    "  utility = -cost - alpha*cost^2\n",
    "  return(utility)\n",
    "}"
   ]
  },
  {
   "cell_type": "markdown",
   "metadata": {},
   "source": [
    "An agent's flow utility is determined by his expected utility:\n",
    "$$E = \\sum_{m,M} \\int_{c_m>l_y,c_M>l_y} u(\\pi(y,m,M)) dF(c_m,c_M) Pr(m,M)$$\n",
    "where $\\pi(y,m,M) = - p(y) - OOP(m,M)$ is the total payment.\n",
    "\n",
    "We implement this with a monte carlo integration:"
   ]
  },
  {
   "cell_type": "code",
   "execution_count": 3,
   "metadata": {
    "collapsed": true
   },
   "outputs": [],
   "source": [
    "#\n",
    "numAccidentsRV <- function(numDraws=1,lam){\n",
    "  return(rpois(numDraws,lam))\n",
    "}\n",
    "\n",
    "# Wrapper function for random draws of the total costs of accidents (minus deductible)\n",
    "getTotalCostOfAccidentsMinusDeductibleRV <- function(numDraws=1,mean_cost,u_l_var){\n",
    "  if(numDraws>0){\n",
    "  # Current Cost Distribution: Log-normal rv with mean, mean_cost, and std dev = 100\n",
    "  costDraws = rlnorm(n = numDraws,meanlog = log(mean_cost),sdlog = 1) - rep(u_l_var,numDraws)\n",
    "  posCostDraws = pmax(costDraws,rep(0,numDraws))\n",
    "  totalCost = sum(posCostDraws)\n",
    "  return(totalCost)\n",
    "  }\n",
    "  else{\n",
    "    return(0)\n",
    "  }\n",
    "}return(totalCost)\n",
    "}\n",
    "\n",
    "vectorized_getTotalCostOfAccidentsRV <- Vectorize(getTotalCostOfAccidentsMinusDeductibleRV)\n",
    "\n"
   ]
  },
  {
   "cell_type": "code",
   "execution_count": 1,
   "metadata": {
    "collapsed": true
   },
   "outputs": [],
   "source": []
  },
  {
   "cell_type": "code",
   "execution_count": null,
   "metadata": {
    "collapsed": true
   },
   "outputs": [],
   "source": []
  },
  {
   "cell_type": "code",
   "execution_count": null,
   "metadata": {
    "collapsed": true
   },
   "outputs": [],
   "source": []
  },
  {
   "cell_type": "markdown",
   "metadata": {},
   "source": [
    "# Archived Code"
   ]
  },
  {
   "cell_type": "code",
   "execution_count": null,
   "metadata": {
    "collapsed": true
   },
   "outputs": [],
   "source": []
  },
  {
   "cell_type": "code",
   "execution_count": null,
   "metadata": {
    "collapsed": true
   },
   "outputs": [],
   "source": []
  },
  {
   "cell_type": "code",
   "execution_count": null,
   "metadata": {
    "collapsed": true
   },
   "outputs": [],
   "source": []
  }
 ],
 "metadata": {
  "kernelspec": {
   "display_name": "R",
   "language": "R",
   "name": "ir"
  },
  "language_info": {
   "codemirror_mode": "r",
   "file_extension": ".r",
   "mimetype": "text/x-r-source",
   "name": "R",
   "pygments_lexer": "r",
   "version": "3.2.2"
  }
 },
 "nbformat": 4,
 "nbformat_minor": 0
}
